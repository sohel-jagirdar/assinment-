{
 "cells": [
  {
   "cell_type": "code",
   "execution_count": 3,
   "id": "d4f517e4",
   "metadata": {},
   "outputs": [
    {
     "data": {
      "text/plain": [
       "64"
      ]
     },
     "execution_count": 3,
     "metadata": {},
     "output_type": "execute_result"
    }
   ],
   "source": [
    "x= lambda a: a**2\n",
    "x(8)"
   ]
  },
  {
   "cell_type": "code",
   "execution_count": null,
   "id": "c688020c",
   "metadata": {},
   "outputs": [],
   "source": [
    "## gmail"
   ]
  },
  {
   "cell_type": "code",
   "execution_count": null,
   "id": "150ec0b6",
   "metadata": {},
   "outputs": [],
   "source": [
    "class MyClass:\n",
    "    pass"
   ]
  },
  {
   "cell_type": "code",
   "execution_count": 4,
   "id": "ba951e2e",
   "metadata": {},
   "outputs": [],
   "source": [
    "class Person:\n",
    "    def __init__(self,name, age):\n",
    "        self.name=name\n",
    "        self.age=age\n",
    "        \n",
    "    def add()\n",
    "        \n",
    "p1 = Person(\"john\",30)"
   ]
  },
  {
   "cell_type": "code",
   "execution_count": 5,
   "id": "cb85311a",
   "metadata": {},
   "outputs": [
    {
     "data": {
      "text/plain": [
       "30"
      ]
     },
     "execution_count": 5,
     "metadata": {},
     "output_type": "execute_result"
    }
   ],
   "source": [
    "p1.age"
   ]
  },
  {
   "cell_type": "code",
   "execution_count": 6,
   "id": "beb9131f",
   "metadata": {},
   "outputs": [],
   "source": [
    "p2 = Person(\"steve\",36)\n",
    "p3 = Person(\"David\",45)\n",
    "p4= Person(\"Ross\",55)\n",
    "p5 = Person(\"Joe\",56)"
   ]
  },
  {
   "cell_type": "code",
   "execution_count": 8,
   "id": "c3228d4d",
   "metadata": {},
   "outputs": [
    {
     "data": {
      "text/plain": [
       "'Joe'"
      ]
     },
     "execution_count": 8,
     "metadata": {},
     "output_type": "execute_result"
    }
   ],
   "source": [
    "p5.name"
   ]
  },
  {
   "cell_type": "code",
   "execution_count": null,
   "id": "eaea0978",
   "metadata": {},
   "outputs": [],
   "source": [
    "Class 1 :\n",
    "    \n",
    "    def info(first,lastname):\n",
    "        return first,lastname"
   ]
  },
  {
   "cell_type": "code",
   "execution_count": null,
   "id": "e4656425",
   "metadata": {},
   "outputs": [],
   "source": [
    "Class 2 :\n",
    "    "
   ]
  },
  {
   "cell_type": "code",
   "execution_count": 14,
   "id": "047b3d29",
   "metadata": {},
   "outputs": [],
   "source": []
  },
  {
   "cell_type": "code",
   "execution_count": 15,
   "id": "2cc4faf0",
   "metadata": {},
   "outputs": [
    {
     "name": "stdout",
     "output_type": "stream",
     "text": [
      "John Wick\n"
     ]
    }
   ],
   "source": [
    "p1.printname()"
   ]
  },
  {
   "cell_type": "code",
   "execution_count": 18,
   "id": "effb1e27",
   "metadata": {},
   "outputs": [],
   "source": [
    "class Student(Person):\n",
    "    pass"
   ]
  },
  {
   "cell_type": "code",
   "execution_count": 19,
   "id": "7b6099b4",
   "metadata": {},
   "outputs": [],
   "source": [
    "x = Student(\"Mike\", \"tyson\")"
   ]
  },
  {
   "cell_type": "code",
   "execution_count": 20,
   "id": "2be3d146",
   "metadata": {},
   "outputs": [
    {
     "name": "stdout",
     "output_type": "stream",
     "text": [
      "Mike tyson\n"
     ]
    }
   ],
   "source": [
    "x.printname()"
   ]
  },
  {
   "cell_type": "code",
   "execution_count": null,
   "id": "c65e6ac0",
   "metadata": {},
   "outputs": [],
   "source": []
  },
  {
   "cell_type": "code",
   "execution_count": null,
   "id": "3779c938",
   "metadata": {},
   "outputs": [],
   "source": []
  },
  {
   "cell_type": "code",
   "execution_count": null,
   "id": "b2cf7d74",
   "metadata": {},
   "outputs": [],
   "source": []
  },
  {
   "cell_type": "code",
   "execution_count": 21,
   "id": "d8b3855d",
   "metadata": {},
   "outputs": [],
   "source": [
    "class Person:\n",
    "    def __init__(self,fname,lname):\n",
    "        self.fname=fname\n",
    "        self.lname=lname\n",
    "        \n",
    "    def printname(self):\n",
    "        print(self.fname , self.lname)\n",
    "\n",
    "p1 = Person(\"John\", \"Wick\")"
   ]
  },
  {
   "cell_type": "code",
   "execution_count": 24,
   "id": "471da30c",
   "metadata": {},
   "outputs": [],
   "source": [
    "class Student(Person):\n",
    "    def __init__(self, fname, lname,year):\n",
    "        super().__init__(fname,lname)\n",
    "        self.graduationyear=year\n",
    "    \n",
    "    def welcome(self):\n",
    "        print(\"Welcome\", self.fname, self.lname, \"to the class of\", self.graduationyear)\n",
    "        \n",
    "s1 = Student(\"John\",\"Wick\",2020)\n"
   ]
  },
  {
   "cell_type": "code",
   "execution_count": 26,
   "id": "e0878d3c",
   "metadata": {},
   "outputs": [
    {
     "name": "stdout",
     "output_type": "stream",
     "text": [
      "John Wick\n"
     ]
    }
   ],
   "source": [
    "s1.printname()"
   ]
  },
  {
   "cell_type": "code",
   "execution_count": null,
   "id": "e11929e7",
   "metadata": {},
   "outputs": [],
   "source": [
    "##"
   ]
  },
  {
   "cell_type": "code",
   "execution_count": 30,
   "id": "a53ad934",
   "metadata": {},
   "outputs": [],
   "source": [
    "class A:\n",
    "    def method1(self):\n",
    "        return \"Method in class A\"\n",
    "\n",
    "class B(A):\n",
    "     def method(self):\n",
    "        return \"Method in class B\"\n"
   ]
  },
  {
   "cell_type": "code",
   "execution_count": 31,
   "id": "fc80612f",
   "metadata": {},
   "outputs": [],
   "source": [
    "b=B()"
   ]
  },
  {
   "cell_type": "code",
   "execution_count": 32,
   "id": "3858aa14",
   "metadata": {},
   "outputs": [
    {
     "data": {
      "text/plain": [
       "'Method in class A'"
      ]
     },
     "execution_count": 32,
     "metadata": {},
     "output_type": "execute_result"
    }
   ],
   "source": [
    "b.method1()"
   ]
  },
  {
   "cell_type": "code",
   "execution_count": null,
   "id": "28f3475f",
   "metadata": {},
   "outputs": [],
   "source": []
  },
  {
   "cell_type": "code",
   "execution_count": 36,
   "id": "fbc0f775",
   "metadata": {},
   "outputs": [],
   "source": [
    "class A:\n",
    "    def method_A(self):\n",
    "        return \"Method in class A\"\n",
    "class B(A):\n",
    "    def method_B(self):\n",
    "        return \"Method in class B\"\n",
    "\n",
    "class C(B):\n",
    "    def method(self):\n",
    "        return self.method_A() + \" and \" + self.method_B()"
   ]
  },
  {
   "cell_type": "code",
   "execution_count": 37,
   "id": "be79f9f8",
   "metadata": {},
   "outputs": [],
   "source": [
    "c=C()"
   ]
  },
  {
   "cell_type": "code",
   "execution_count": 38,
   "id": "85a7f4de",
   "metadata": {},
   "outputs": [
    {
     "data": {
      "text/plain": [
       "'Method in class A and Method in class B'"
      ]
     },
     "execution_count": 38,
     "metadata": {},
     "output_type": "execute_result"
    }
   ],
   "source": [
    "c.method()"
   ]
  },
  {
   "cell_type": "code",
   "execution_count": null,
   "id": "b19f4300",
   "metadata": {},
   "outputs": [],
   "source": []
  },
  {
   "cell_type": "code",
   "execution_count": null,
   "id": "c3f3057b",
   "metadata": {},
   "outputs": [],
   "source": []
  },
  {
   "cell_type": "markdown",
   "id": "ef9f6ef7",
   "metadata": {},
   "source": [
    "## Class"
   ]
  },
  {
   "cell_type": "code",
   "execution_count": null,
   "id": "8d01f409",
   "metadata": {},
   "outputs": [],
   "source": [
    "len()"
   ]
  },
  {
   "cell_type": "code",
   "execution_count": 1,
   "id": "c72ca101",
   "metadata": {},
   "outputs": [],
   "source": [
    "import datetime"
   ]
  },
  {
   "cell_type": "code",
   "execution_count": 3,
   "id": "142e6b3f",
   "metadata": {},
   "outputs": [
    {
     "name": "stdout",
     "output_type": "stream",
     "text": [
      "2024-07-19 19:56:09.850745\n"
     ]
    }
   ],
   "source": [
    "x=datetime.datetime.now()\n",
    "print(x)"
   ]
  },
  {
   "cell_type": "code",
   "execution_count": 4,
   "id": "d0b621bd",
   "metadata": {},
   "outputs": [
    {
     "data": {
      "text/plain": [
       "datetime.datetime"
      ]
     },
     "execution_count": 4,
     "metadata": {},
     "output_type": "execute_result"
    }
   ],
   "source": [
    "type(x)"
   ]
  },
  {
   "cell_type": "code",
   "execution_count": 8,
   "id": "f2ff1d36",
   "metadata": {},
   "outputs": [
    {
     "data": {
      "text/plain": [
       "19"
      ]
     },
     "execution_count": 8,
     "metadata": {},
     "output_type": "execute_result"
    }
   ],
   "source": [
    "x=datetime.datetime.now()\n",
    "x.day"
   ]
  },
  {
   "cell_type": "code",
   "execution_count": 9,
   "id": "689db257",
   "metadata": {},
   "outputs": [],
   "source": [
    "import datetime\n",
    "b_date = datetime.datetime(1982,5,17)"
   ]
  },
  {
   "cell_type": "code",
   "execution_count": 12,
   "id": "f24d76e9",
   "metadata": {},
   "outputs": [
    {
     "name": "stdout",
     "output_type": "stream",
     "text": [
      "May\n"
     ]
    }
   ],
   "source": [
    "type(b_date)\n",
    "\n",
    "print(b_date.strftime(\"%B\"))"
   ]
  },
  {
   "cell_type": "code",
   "execution_count": 15,
   "id": "ebc2c069",
   "metadata": {},
   "outputs": [
    {
     "data": {
      "text/plain": [
       "64"
      ]
     },
     "execution_count": 15,
     "metadata": {},
     "output_type": "execute_result"
    }
   ],
   "source": [
    "def power(a,b):\n",
    "    return a**b\n",
    "power(4,3)"
   ]
  },
  {
   "cell_type": "code",
   "execution_count": 14,
   "id": "9a8abff6",
   "metadata": {},
   "outputs": [
    {
     "data": {
      "text/plain": [
       "64"
      ]
     },
     "execution_count": 14,
     "metadata": {},
     "output_type": "execute_result"
    }
   ],
   "source": [
    "pow(4,3)"
   ]
  },
  {
   "cell_type": "code",
   "execution_count": 16,
   "id": "d979139a",
   "metadata": {},
   "outputs": [
    {
     "data": {
      "text/plain": [
       "25"
      ]
     },
     "execution_count": 16,
     "metadata": {},
     "output_type": "execute_result"
    }
   ],
   "source": [
    "abs(-25)"
   ]
  },
  {
   "cell_type": "code",
   "execution_count": 20,
   "id": "f9fbf279",
   "metadata": {},
   "outputs": [
    {
     "data": {
      "text/plain": [
       "85"
      ]
     },
     "execution_count": 20,
     "metadata": {},
     "output_type": "execute_result"
    }
   ],
   "source": [
    "max(5,10,20,25,5,8,5,85,8,5,5,8,5,85,8,5,5,8,5,8,6,1,-45,56,5,5)"
   ]
  },
  {
   "cell_type": "code",
   "execution_count": 21,
   "id": "6d510c50",
   "metadata": {},
   "outputs": [],
   "source": [
    "import math"
   ]
  },
  {
   "cell_type": "code",
   "execution_count": 24,
   "id": "54f8d5cd",
   "metadata": {},
   "outputs": [
    {
     "data": {
      "text/plain": [
       "4.0"
      ]
     },
     "execution_count": 24,
     "metadata": {},
     "output_type": "execute_result"
    }
   ],
   "source": [
    "math.sqrt(16)"
   ]
  },
  {
   "cell_type": "code",
   "execution_count": 23,
   "id": "632bdb79",
   "metadata": {},
   "outputs": [
    {
     "data": {
      "text/plain": [
       "3.141592653589793"
      ]
     },
     "execution_count": 23,
     "metadata": {},
     "output_type": "execute_result"
    }
   ],
   "source": [
    "pi"
   ]
  },
  {
   "cell_type": "code",
   "execution_count": 25,
   "id": "d40e4461",
   "metadata": {},
   "outputs": [
    {
     "data": {
      "text/plain": [
       "0.8939966636005579"
      ]
     },
     "execution_count": 25,
     "metadata": {},
     "output_type": "execute_result"
    }
   ],
   "source": [
    "math.sin(90)"
   ]
  },
  {
   "cell_type": "code",
   "execution_count": 26,
   "id": "075612a9",
   "metadata": {},
   "outputs": [],
   "source": [
    "import random"
   ]
  },
  {
   "cell_type": "code",
   "execution_count": 33,
   "id": "126e624a",
   "metadata": {},
   "outputs": [
    {
     "data": {
      "text/plain": [
       "675"
      ]
     },
     "execution_count": 33,
     "metadata": {},
     "output_type": "execute_result"
    }
   ],
   "source": [
    "random.randint(1,1000)"
   ]
  },
  {
   "cell_type": "code",
   "execution_count": null,
   "id": "f9b340a9",
   "metadata": {},
   "outputs": [],
   "source": [
    "poly = many\n",
    "morophism = form"
   ]
  },
  {
   "cell_type": "code",
   "execution_count": null,
   "id": "615edafa",
   "metadata": {},
   "outputs": [],
   "source": [
    "len()"
   ]
  },
  {
   "cell_type": "code",
   "execution_count": 34,
   "id": "b0a13e18",
   "metadata": {},
   "outputs": [],
   "source": [
    "x = \"Hello World!\""
   ]
  },
  {
   "cell_type": "code",
   "execution_count": 35,
   "id": "73fead14",
   "metadata": {},
   "outputs": [
    {
     "name": "stdout",
     "output_type": "stream",
     "text": [
      "12\n"
     ]
    }
   ],
   "source": [
    "print(len(x)) "
   ]
  },
  {
   "cell_type": "code",
   "execution_count": 36,
   "id": "aa6d12b9",
   "metadata": {},
   "outputs": [],
   "source": [
    "mytuple = (\"apple\", \"banana\", \"cherry\")"
   ]
  },
  {
   "cell_type": "code",
   "execution_count": 37,
   "id": "6ef0d157",
   "metadata": {},
   "outputs": [
    {
     "name": "stdout",
     "output_type": "stream",
     "text": [
      "3\n"
     ]
    }
   ],
   "source": [
    "print(len(mytuple)) "
   ]
  },
  {
   "cell_type": "code",
   "execution_count": null,
   "id": "8f8cdcfe",
   "metadata": {},
   "outputs": [],
   "source": []
  },
  {
   "cell_type": "code",
   "execution_count": null,
   "id": "89353c02",
   "metadata": {},
   "outputs": [],
   "source": []
  },
  {
   "cell_type": "code",
   "execution_count": 38,
   "id": "6c568304",
   "metadata": {},
   "outputs": [],
   "source": [
    "thisdict ={\n",
    "  \"brand\": \"Ford\",\n",
    "  \"model\": \"Mustang\",\n",
    "  \"year\": 1964\n",
    "}"
   ]
  },
  {
   "cell_type": "code",
   "execution_count": 39,
   "id": "ef0ebfff",
   "metadata": {
    "scrolled": true
   },
   "outputs": [
    {
     "name": "stdout",
     "output_type": "stream",
     "text": [
      "3\n"
     ]
    }
   ],
   "source": [
    "print(len(thisdict)) "
   ]
  },
  {
   "cell_type": "code",
   "execution_count": 42,
   "id": "1af8a02f",
   "metadata": {},
   "outputs": [],
   "source": [
    "class Car:\n",
    "    def __init__(self, brand, model):\n",
    "        self.brand = brand\n",
    "        self.model = model\n",
    "    \n",
    "    def move(self):\n",
    "        print(\"Drive!\")"
   ]
  },
  {
   "cell_type": "code",
   "execution_count": 43,
   "id": "ecae01fb",
   "metadata": {},
   "outputs": [],
   "source": [
    "c1 = Car(\"ford\",\"mustang\")\n"
   ]
  },
  {
   "cell_type": "code",
   "execution_count": 44,
   "id": "8072131c",
   "metadata": {},
   "outputs": [
    {
     "name": "stdout",
     "output_type": "stream",
     "text": [
      "Drive!\n"
     ]
    }
   ],
   "source": [
    "c1.move()"
   ]
  },
  {
   "cell_type": "code",
   "execution_count": 45,
   "id": "776b9547",
   "metadata": {},
   "outputs": [],
   "source": [
    "class Boat:\n",
    "    def __init__(self, brand, model):\n",
    "        self.brand = brand\n",
    "        self.model = model\n",
    "\n",
    "    def move(self):\n",
    "        print(\"Sail!\")"
   ]
  },
  {
   "cell_type": "code",
   "execution_count": 46,
   "id": "5861cf58",
   "metadata": {},
   "outputs": [],
   "source": [
    "b1 = Boat(\"Ibiza\",\"Tauring 20\")"
   ]
  },
  {
   "cell_type": "code",
   "execution_count": 47,
   "id": "850cf78f",
   "metadata": {},
   "outputs": [
    {
     "name": "stdout",
     "output_type": "stream",
     "text": [
      "Sail!\n"
     ]
    }
   ],
   "source": [
    "b1.move()"
   ]
  },
  {
   "cell_type": "code",
   "execution_count": 48,
   "id": "9ebe4938",
   "metadata": {},
   "outputs": [
    {
     "data": {
      "text/plain": [
       "15"
      ]
     },
     "execution_count": 48,
     "metadata": {},
     "output_type": "execute_result"
    }
   ],
   "source": [
    "5+10"
   ]
  },
  {
   "cell_type": "code",
   "execution_count": 49,
   "id": "1a45511f",
   "metadata": {},
   "outputs": [
    {
     "data": {
      "text/plain": [
       "';jsdvjsdvkjdbvkldbv'"
      ]
     },
     "execution_count": 49,
     "metadata": {},
     "output_type": "execute_result"
    }
   ],
   "source": [
    "\";jsdvjsdv\" + \"kjdbvkldbv\""
   ]
  },
  {
   "cell_type": "markdown",
   "id": "b2e7bf12",
   "metadata": {},
   "source": [
    "## File handling"
   ]
  },
  {
   "cell_type": "code",
   "execution_count": 52,
   "id": "3657be93",
   "metadata": {},
   "outputs": [],
   "source": [
    "f = open(\"demo.txt\")"
   ]
  },
  {
   "cell_type": "code",
   "execution_count": 53,
   "id": "db4d749f",
   "metadata": {},
   "outputs": [],
   "source": [
    "f.close()"
   ]
  },
  {
   "cell_type": "code",
   "execution_count": 58,
   "id": "eb4724d1",
   "metadata": {},
   "outputs": [],
   "source": [
    "f = open(\"demo1.txt\",\"w\")\n",
    "\n",
    "f.write(\"Now the file has more content\")\n",
    "\n",
    "f.close()"
   ]
  },
  {
   "cell_type": "code",
   "execution_count": 57,
   "id": "47c8c529",
   "metadata": {},
   "outputs": [
    {
     "name": "stdout",
     "output_type": "stream",
     "text": [
      "Now the file has more content\n"
     ]
    }
   ],
   "source": [
    "f= open(\"demo.txt\",\"r\")\n",
    "print(f.read())"
   ]
  },
  {
   "cell_type": "code",
   "execution_count": 59,
   "id": "3c2295fc",
   "metadata": {},
   "outputs": [],
   "source": [
    "f = open(\"demo.txt\",\"w\")\n",
    "\n",
    "f.write(\"content deleted\")\n",
    "\n",
    "f.close()"
   ]
  },
  {
   "cell_type": "code",
   "execution_count": null,
   "id": "cdc095b8",
   "metadata": {},
   "outputs": [],
   "source": []
  },
  {
   "cell_type": "code",
   "execution_count": 64,
   "id": "196106ef",
   "metadata": {},
   "outputs": [],
   "source": [
    "f = open(\"demo.txt\",\"a\")"
   ]
  },
  {
   "cell_type": "code",
   "execution_count": 66,
   "id": "7ca56459",
   "metadata": {},
   "outputs": [],
   "source": [
    "import os\n",
    "os.remove(\"demo1.txt\")"
   ]
  },
  {
   "cell_type": "code",
   "execution_count": 69,
   "id": "ff7127cf",
   "metadata": {},
   "outputs": [
    {
     "name": "stdout",
     "output_type": "stream",
     "text": [
      "file not exist or  deleted\n"
     ]
    }
   ],
   "source": [
    "if os.path.exists(\"demo2.txt\"):\n",
    "    os.remove(\"demo2.txt\")\n",
    "else:\n",
    "    print(\"file not exist or  deleted\")"
   ]
  },
  {
   "cell_type": "code",
   "execution_count": null,
   "id": "4ea3ebfe",
   "metadata": {},
   "outputs": [],
   "source": []
  },
  {
   "cell_type": "code",
   "execution_count": null,
   "id": "5c7875ca",
   "metadata": {},
   "outputs": [],
   "source": []
  },
  {
   "cell_type": "code",
   "execution_count": null,
   "id": "146d1adc",
   "metadata": {},
   "outputs": [],
   "source": []
  },
  {
   "cell_type": "code",
   "execution_count": null,
   "id": "d6227795",
   "metadata": {},
   "outputs": [],
   "source": []
  },
  {
   "cell_type": "code",
   "execution_count": null,
   "id": "a425dd01",
   "metadata": {},
   "outputs": [],
   "source": []
  },
  {
   "cell_type": "code",
   "execution_count": null,
   "id": "9b5d8ec8",
   "metadata": {},
   "outputs": [],
   "source": []
  }
 ],
 "metadata": {
  "kernelspec": {
   "display_name": "Python 3 (ipykernel)",
   "language": "python",
   "name": "python3"
  },
  "language_info": {
   "codemirror_mode": {
    "name": "ipython",
    "version": 3
   },
   "file_extension": ".py",
   "mimetype": "text/x-python",
   "name": "python",
   "nbconvert_exporter": "python",
   "pygments_lexer": "ipython3",
   "version": "3.11.5"
  }
 },
 "nbformat": 4,
 "nbformat_minor": 5
}
